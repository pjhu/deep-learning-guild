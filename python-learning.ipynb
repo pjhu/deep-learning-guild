{
 "cells": [
  {
   "cell_type": "code",
   "execution_count": 2,
   "metadata": {},
   "outputs": [
    {
     "name": "stdout",
     "output_type": "stream",
     "text": [
      "原始数据\n",
      " [[11  8  3  6 18]\n",
      " [10  6  1  0  6]]\n",
      "*******mean函数*******\n",
      "对所有数据计算\n",
      " 6.9\n",
      "axis=0，按行方向计算，即每列\n",
      " [10.5  7.   2.   3.  12. ]\n",
      "axis=1，按列方向计算，即每行\n",
      " [9.2 4.6]\n",
      "*****average函数******\n",
      "对所有数据计算\n",
      " 6.9\n",
      "axis=0，按行方向计算，即每列\n",
      " [10.5  7.   2.   3.  12. ]\n",
      "axis=1，按列方向计算，即每行\n",
      " [9.2 4.6]\n",
      "不指定权重\n",
      " 2.5\n",
      "指定权重\n",
      " 2.0\n"
     ]
    }
   ],
   "source": [
    "# average vs mean\n",
    "\n",
    "import numpy as np\n",
    "a = np.array([np.random.randint(0, 20, 5), np.random.randint(0, 20, 5)])\n",
    "print('原始数据\\n', a)\n",
    "print('mean函数'.center(20, '*'))\n",
    "print('对所有数据计算\\n', a.mean())\n",
    "print('axis=0，按行方向计算，即每列\\n', a.mean(axis=0))  # 按行方向计算，即每列\n",
    "print('axis=1，按列方向计算，即每行\\n', a.mean(axis=1))  # 按列方向计算，即每行\n",
    "print('average函数'.center(20, '*'))\n",
    "print('对所有数据计算\\n', np.average(a))\n",
    "print('axis=0，按行方向计算，即每列\\n', np.average(a, axis=0))  # 按行方向计算，即每列\n",
    "print('axis=1，按列方向计算，即每行\\n', np.average(a, axis=1))  # 按列方向计算，即每行\n",
    "b = np.array([1, 2, 3, 4])\n",
    "wts = np.array([4, 3, 2, 1])\n",
    "print('不指定权重\\n', np.average(b))\n",
    "print('指定权重\\n', np.average(b, weights=wts))"
   ]
  },
  {
   "cell_type": "code",
   "execution_count": 20,
   "metadata": {},
   "outputs": [
    {
     "data": {
      "text/plain": [
       "array([0., 0., 0.])"
      ]
     },
     "execution_count": 20,
     "metadata": {},
     "output_type": "execute_result"
    }
   ],
   "source": [
    "import scipy.optimize as op\n",
    "def Sigmoid(z):\n",
    "    return 1/(1 + np.exp(-z));\n",
    "\n",
    "def Gradient(theta,x,y):\n",
    "    m , n = x.shape\n",
    "    theta = theta.reshape((n,1));\n",
    "    y = y.reshape((m,1))\n",
    "    sigmoid_x_theta = Sigmoid(x.dot(theta));\n",
    "    grad = ((x.T).dot(sigmoid_x_theta-y))/m;\n",
    "    return grad.flatten();\n",
    "\n",
    "def CostFunc(theta,x,y):\n",
    "    m,n = x.shape; \n",
    "    theta = theta.reshape((n,1));\n",
    "    y = y.reshape((m,1));\n",
    "    term1 = np.log(Sigmoid(x.dot(theta)));\n",
    "    term2 = np.log(1-Sigmoid(x.dot(theta)));\n",
    "    term1 = term1.reshape((m,1))\n",
    "    term2 = term2.reshape((m,1))\n",
    "    term = y * term1 + (1 - y) * term2;\n",
    "    J = -((np.sum(term))/m);\n",
    "    return J;\n",
    "\n",
    "# intialize X and y\n",
    "X = np.array([[1,2,3],[1,3,4]]);\n",
    "y = np.array([[1],[0]]);\n",
    "\n",
    "m , n = X.shape;\n",
    "initial_theta = np.zeros(n);\n",
    "# Result = op.minimize(fun = CostFunc, x0 = initial_theta, args = (X, y),method = 'TNC',jac = Gradient)\n",
    "# optimal_theta = Result.x\n",
    "initial_theta"
   ]
  },
  {
   "cell_type": "code",
   "execution_count": null,
   "metadata": {},
   "outputs": [],
   "source": [
    "# empty array\n",
    "a = np.empty((2,0))\n",
    "a = np.append(a, np.array([[1],[2]]), axis=1)\n",
    "a = np.append(a, np.array([[1],[2]]), axis=1)\n",
    "a = np.append(a, np.array([[1],[2]]), axis=1)\n",
    "a"
   ]
  },
  {
   "cell_type": "code",
   "execution_count": 48,
   "metadata": {},
   "outputs": [
    {
     "data": {
      "text/plain": [
       "array([[1, 2],\n",
       "       [3, 4]])"
      ]
     },
     "execution_count": 48,
     "metadata": {},
     "output_type": "execute_result"
    }
   ],
   "source": [
    "a = np.array([[1, 2], [3, 4]])\n",
    "b = np.array([[4, 1], [2, 2]])\n",
    "a, b, a*b"
   ]
  },
  {
   "cell_type": "code",
   "execution_count": 33,
   "metadata": {},
   "outputs": [
    {
     "data": {
      "text/plain": [
       "(array([1, 2]), array([4, 1]))"
      ]
     },
     "execution_count": 33,
     "metadata": {},
     "output_type": "execute_result"
    }
   ],
   "source": [
    "a = np.array([1, 2])\n",
    "b = np.array([4, 1])\n",
    "a, b, np.dot(a,b)"
   ]
  },
  {
   "cell_type": "code",
   "execution_count": 63,
   "metadata": {},
   "outputs": [
    {
     "data": {
      "text/plain": [
       "array([[11, 12, 13],\n",
       "       [14, 15, 16]])"
      ]
     },
     "execution_count": 63,
     "metadata": {},
     "output_type": "execute_result"
    }
   ],
   "source": [
    "b = np.array([[11,12,13], [14,15,16]])\n",
    "b"
   ]
  },
  {
   "cell_type": "code",
   "execution_count": 69,
   "metadata": {},
   "outputs": [
    {
     "data": {
      "text/plain": [
       "array([ 1,  2,  3,  4,  5,  6, 11, 12, 13, 14, 15, 16])"
      ]
     },
     "execution_count": 69,
     "metadata": {},
     "output_type": "execute_result"
    }
   ],
   "source": [
    "test = np.append(a.flatten(), b.flatten())\n",
    "test"
   ]
  },
  {
   "cell_type": "code",
   "execution_count": 70,
   "metadata": {},
   "outputs": [
    {
     "data": {
      "text/plain": [
       "array([[11, 13, 15],\n",
       "       [12, 14, 16]])"
      ]
     },
     "execution_count": 70,
     "metadata": {},
     "output_type": "execute_result"
    }
   ],
   "source": [
    "np.reshape(test[], (2, 3), 'F')"
   ]
  },
  {
   "cell_type": "code",
   "execution_count": null,
   "metadata": {},
   "outputs": [],
   "source": []
  }
 ],
 "metadata": {
  "kernelspec": {
   "display_name": "Python 3",
   "language": "python",
   "name": "python3"
  },
  "language_info": {
   "codemirror_mode": {
    "name": "ipython",
    "version": 3
   },
   "file_extension": ".py",
   "mimetype": "text/x-python",
   "name": "python",
   "nbconvert_exporter": "python",
   "pygments_lexer": "ipython3",
   "version": "3.7.3"
  }
 },
 "nbformat": 4,
 "nbformat_minor": 2
}
