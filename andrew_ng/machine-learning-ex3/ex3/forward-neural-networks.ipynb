{
 "cells": [
  {
   "cell_type": "code",
   "execution_count": 31,
   "metadata": {},
   "outputs": [
    {
     "data": {
      "text/plain": [
       "((5000, 400), (5000, 1), (25, 401), (10, 26))"
      ]
     },
     "execution_count": 31,
     "metadata": {},
     "output_type": "execute_result"
    }
   ],
   "source": [
    "import numpy as np\n",
    "import pandas as pd\n",
    "import matplotlib.pyplot as plt\n",
    "import scipy.io\n",
    "data_mat = scipy.io.loadmat('ex3data1.mat')\n",
    "weight_mat = scipy.io.loadmat('ex3weights.mat')\n",
    "data_mat['X'].shape, data_mat['y'].shape, weight_mat['Theta1'].shape, weight_mat['Theta2'].shape"
   ]
  },
  {
   "cell_type": "code",
   "execution_count": 32,
   "metadata": {},
   "outputs": [],
   "source": [
    "X = data_mat['X']\n",
    "y = data_mat['y']\n",
    "theta1 = weight_mat['Theta1']\n",
    "theta2 = weight_mat['Theta2']"
   ]
  },
  {
   "cell_type": "code",
   "execution_count": 73,
   "metadata": {},
   "outputs": [],
   "source": [
    "def sigmoid(z):\n",
    "    return 1.0 / (1.0 + np.exp(-z))"
   ]
  },
  {
   "cell_type": "code",
   "execution_count": 93,
   "metadata": {},
   "outputs": [],
   "source": [
    "# Feedforward Propagation and Prediction\n",
    "\n",
    "def predict(Theta1, Theta2, X):\n",
    "    m = X.shape[1]\n",
    "    num_labels = Theta2.shape[0]\n",
    "    p = np.zeros((m, 1))\n",
    "\n",
    "    a1_input = np.append(np.ones((1, m)), X, axis=0)\n",
    "    z2 = np.dot(Theta1, a1_input)\n",
    "    a2 = sigmoid(z2)\n",
    "\n",
    "    a2_input = np.append(np.ones((1, m)), a2, axis=0)\n",
    "    z3 = np.dot(Theta2, a2_input)\n",
    "    a3 = sigmoid(z3)\n",
    "\n",
    "    i_max = np.argmax(a3, axis=0)\n",
    "    return i_max"
   ]
  },
  {
   "cell_type": "code",
   "execution_count": 95,
   "metadata": {},
   "outputs": [
    {
     "data": {
      "text/plain": [
       "(97.52, (5000,))"
      ]
     },
     "execution_count": 95,
     "metadata": {},
     "output_type": "execute_result"
    }
   ],
   "source": [
    "# 计算准确率，y的值从1开始\n",
    "# pred = predict(theta1, theta2, X.T)\n",
    "np.mean((pred == (y-1).flatten())) * 100, pred.shape"
   ]
  },
  {
   "cell_type": "code",
   "execution_count": null,
   "metadata": {},
   "outputs": [],
   "source": []
  }
 ],
 "metadata": {
  "kernelspec": {
   "display_name": "Python 3",
   "language": "python",
   "name": "python3"
  },
  "language_info": {
   "codemirror_mode": {
    "name": "ipython",
    "version": 3
   },
   "file_extension": ".py",
   "mimetype": "text/x-python",
   "name": "python",
   "nbconvert_exporter": "python",
   "pygments_lexer": "ipython3",
   "version": "3.7.3"
  }
 },
 "nbformat": 4,
 "nbformat_minor": 2
}
